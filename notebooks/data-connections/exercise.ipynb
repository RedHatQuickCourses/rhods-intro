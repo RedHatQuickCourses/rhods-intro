{
 "cells": [
  {
   "cell_type": "markdown",
   "id": "d460b6fb-3b54-4bf9-a79d-8d877051aa03",
   "metadata": {},
   "source": [
    "# Connecting to S3 with Data Connections and Boto3\n",
    "\n",
    "This exercise covers the basic use of the `boto3` library, which is the AWS SDK for Python.\n",
    "This library is included in some workbench images included in RHOAI, such as  `Standard Data Science`.\n",
    "\n",
    "\n",
    "The parameters required to connect to S3 are injected by the data connnection as environment variables.\n",
    "\n",
    "First, import the required packages for this exercise."
   ]
  },
  {
   "cell_type": "code",
   "execution_count": null,
   "id": "af95ce32-3c39-452e-8072-b76c5c90eb74",
   "metadata": {},
   "outputs": [],
   "source": [
    "import os\n",
    "import boto3"
   ]
  },
  {
   "cell_type": "markdown",
   "id": "c4e1e957-d9ab-49a0-a485-a6c1c3b827d8",
   "metadata": {},
   "source": [
    "Read the environment variables injected by the data connection:"
   ]
  },
  {
   "cell_type": "code",
   "execution_count": null,
   "id": "cda91cce-3afb-49e2-a855-a1e543da2f62",
   "metadata": {},
   "outputs": [],
   "source": [
    "key_id = os.getenv(\"AWS_ACCESS_KEY_ID\")\n",
    "secret_key = os.getenv(\"AWS_SECRET_ACCESS_KEY\")\n",
    "region = os.getenv(\"AWS_DEFAULT_REGION\")\n",
    "endpoint = os.getenv(\"AWS_S3_ENDPOINT\")\n",
    "bucket_name = os.getenv(\"AWS_S3_BUCKET\")"
   ]
  },
  {
   "cell_type": "markdown",
   "id": "5e9ad4ba-163b-46ca-b347-a7e563338b47",
   "metadata": {},
   "source": [
    "Explore some of these variables to verify that the data has been injected."
   ]
  },
  {
   "cell_type": "markdown",
   "id": "156cbac8-bd81-4a00-98f1-d9e7049b30b2",
   "metadata": {},
   "source": [
    "_**SECURITY WARNING**_\n",
    "\n",
    "_Do not print sensitive information to notebook output cells.\n",
    "If you leave sensitive credentials printed in an output cell, then you might accidentally leak this information when you commit and push your changes._"
   ]
  },
  {
   "cell_type": "code",
   "execution_count": null,
   "id": "f648f833-1487-4696-ae8f-7a0bd5511be9",
   "metadata": {},
   "outputs": [],
   "source": [
    "region"
   ]
  },
  {
   "cell_type": "markdown",
   "id": "70ee334c-c46e-4cc4-a6d4-f072790d02cd",
   "metadata": {},
   "source": [
    "## Connect to S3\n",
    "\n",
    "Create an S3 client.\n",
    "If you are using an the AWS S3 storage, then you might not need to pass the `endpoint_url` parameter, as `boto3` uses the default endpoint."
   ]
  },
  {
   "cell_type": "code",
   "execution_count": null,
   "id": "db3ba01a-6a9b-47bb-ac91-e639bb5de033",
   "metadata": {},
   "outputs": [],
   "source": [
    "s3 = boto3.client(\n",
    "    \"s3\",\n",
    "    region,\n",
    "    aws_access_key_id=key_id,\n",
    "    aws_secret_access_key=secret_key,\n",
    "    endpoint_url=endpoint,\n",
    "    use_ssl=True\n",
    ")\n",
    "\n",
    "s3"
   ]
  },
  {
   "cell_type": "markdown",
   "id": "f462f413-0e2e-4d29-a5a5-c663e657c562",
   "metadata": {},
   "source": [
    "List the available buckets"
   ]
  },
  {
   "cell_type": "code",
   "execution_count": null,
   "id": "580b4f49-0224-4d56-87d2-660bb427ec18",
   "metadata": {},
   "outputs": [],
   "source": [
    "response = s3.list_buckets()\n",
    "response[\"Buckets\"]"
   ]
  },
  {
   "cell_type": "markdown",
   "id": "9108d0fb-3f90-4416-8eda-1a967dda0306",
   "metadata": {},
   "source": [
    "## Upload a File"
   ]
  },
  {
   "cell_type": "markdown",
   "id": "06a95968-7d69-410c-a3ec-96a4b067663b",
   "metadata": {},
   "source": [
    "Use the `upload_file` function of the S3 client.\n",
    "Pass the following parameters:\n",
    "    \n",
    "* The local path of the file to be uploaded\n",
    "* The bucket where the file must be uploaded\n",
    "* The key of the uploaded object in S3.\n"
   ]
  },
  {
   "cell_type": "code",
   "execution_count": null,
   "id": "b44d2180-c30f-46f3-b0f4-84d688e34e11",
   "metadata": {},
   "outputs": [],
   "source": [
    "filename = \"hello.txt\"\n",
    "\n",
    "s3.upload_file(filename, bucket_name, Key=filename)"
   ]
  },
  {
   "cell_type": "markdown",
   "id": "0c24cddb-ede1-43d6-b12c-0c994ded2a53",
   "metadata": {
    "tags": []
   },
   "source": [
    "## List the Contents of a Bucket\n",
    "\n",
    "Use the `list_objects_v2` of the S3 client and pass the `Bucket` parameter."
   ]
  },
  {
   "cell_type": "code",
   "execution_count": null,
   "id": "96431f10-55f8-4b8b-8cb9-f63b98b2df79",
   "metadata": {},
   "outputs": [],
   "source": [
    "objects = s3.list_objects_v2(Bucket=bucket_name)\n",
    "\n",
    "for obj in objects[\"Contents\"]:\n",
    "    print(obj[\"Key\"])"
   ]
  },
  {
   "cell_type": "markdown",
   "id": "aabc3faf-d89b-4f19-8025-9eb19ca60bd0",
   "metadata": {},
   "source": [
    "## Download a File"
   ]
  },
  {
   "cell_type": "markdown",
   "id": "567e5929-1fdd-456a-9b85-0e3a683a12c3",
   "metadata": {},
   "source": [
    "Use the `download_file` function of the S3 client.\n",
    "Pass the following parameters:\n",
    "    \n",
    "* The bucket that contains the file object to download\n",
    "* The key of the object to download\n",
    "* The local path of the downloaded file\n"
   ]
  },
  {
   "cell_type": "code",
   "execution_count": null,
   "id": "16eb6d8c-50fa-483f-876b-68594f6cc251",
   "metadata": {},
   "outputs": [],
   "source": [
    "s3.download_file(bucket_name, filename, \"downloaded_hello.txt\") "
   ]
  },
  {
   "cell_type": "markdown",
   "id": "1962e606-0c88-440f-9194-7bc6f394d12b",
   "metadata": {},
   "source": [
    "Verify that the file has been downloaded."
   ]
  },
  {
   "cell_type": "code",
   "execution_count": null,
   "id": "3fa4fc8e-50f5-4ba3-ac2e-e440576e9fc6",
   "metadata": {},
   "outputs": [],
   "source": [
    "!ls -l downloaded_hello.txt"
   ]
  }
 ],
 "metadata": {
  "kernelspec": {
   "display_name": "Python 3.9",
   "language": "python",
   "name": "python3"
  },
  "language_info": {
   "codemirror_mode": {
    "name": "ipython",
    "version": 3
   },
   "file_extension": ".py",
   "mimetype": "text/x-python",
   "name": "python",
   "nbconvert_exporter": "python",
   "pygments_lexer": "ipython3",
   "version": "3.9.16"
  }
 },
 "nbformat": 4,
 "nbformat_minor": 5
}
